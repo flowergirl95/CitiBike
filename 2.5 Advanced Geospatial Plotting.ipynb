{
 "cells": [
  {
   "cell_type": "markdown",
   "id": "71514c5b-31ba-426b-a93b-42603675932c",
   "metadata": {},
   "source": [
    "# Advanced Geospatial Plotting"
   ]
  },
  {
   "cell_type": "markdown",
   "id": "d908112b-d28d-471d-841b-cea21d5bc458",
   "metadata": {},
   "source": [
    "Import Libraries"
   ]
  },
  {
   "cell_type": "code",
   "execution_count": 1,
   "id": "6cf10dd2-9a44-4fc6-8c88-6c14bdf0c46b",
   "metadata": {},
   "outputs": [],
   "source": [
    "import pandas as pd\n",
    "import os\n",
    "from keplergl import KeplerGl\n",
    "from pyproj import CRS\n",
    "import numpy as np\n",
    "from matplotlib import pyplot as plt"
   ]
  },
  {
   "cell_type": "code",
   "execution_count": 2,
   "id": "994c4cb6-23d9-4e86-8453-79d6afcdeca1",
   "metadata": {},
   "outputs": [
    {
     "name": "stderr",
     "output_type": "stream",
     "text": [
      "C:\\Users\\beaac\\AppData\\Local\\Temp\\ipykernel_30032\\3026167464.py:1: DtypeWarning: Columns (6,8) have mixed types. Specify dtype option on import or set low_memory=False.\n",
      "  df = pd.read_csv('citibike_weather_cleaned_2022.csv', index_col = 0)\n"
     ]
    }
   ],
   "source": [
    "df = pd.read_csv('citibike_weather_cleaned_2022.csv', index_col = 0)"
   ]
  },
  {
   "cell_type": "code",
   "execution_count": 3,
   "id": "c4e3aa80-4533-4ea2-92a9-f60a3dc9eb3b",
   "metadata": {},
   "outputs": [
    {
     "data": {
      "text/plain": [
       "Index(['ride_id', 'rideable_type', 'started_at', 'ended_at',\n",
       "       'start_station_name', 'start_station_id', 'end_station_name',\n",
       "       'end_station_id', 'start_lat', 'start_lng', 'end_lat', 'end_lng',\n",
       "       'member_casual', 'start_time', 'date', 'avgTemp', '_merge'],\n",
       "      dtype='object')"
      ]
     },
     "execution_count": 3,
     "metadata": {},
     "output_type": "execute_result"
    }
   ],
   "source": [
    "df. columns"
   ]
  },
  {
   "cell_type": "code",
   "execution_count": 4,
   "id": "eeb4a9a2-78c1-404a-9b45-4aa6c4c1fea3",
   "metadata": {},
   "outputs": [
    {
     "data": {
      "text/plain": [
       "ride_id                object\n",
       "rideable_type          object\n",
       "started_at             object\n",
       "ended_at               object\n",
       "start_station_name     object\n",
       "start_station_id       object\n",
       "end_station_name       object\n",
       "end_station_id         object\n",
       "start_lat             float64\n",
       "start_lng             float64\n",
       "end_lat               float64\n",
       "end_lng               float64\n",
       "member_casual          object\n",
       "start_time             object\n",
       "date                   object\n",
       "avgTemp               float64\n",
       "_merge                 object\n",
       "dtype: object"
      ]
     },
     "execution_count": 4,
     "metadata": {},
     "output_type": "execute_result"
    }
   ],
   "source": [
    "df.dtypes"
   ]
  },
  {
   "cell_type": "code",
   "execution_count": 5,
   "id": "ac10b103-5c09-4ced-b12d-b141d5fac714",
   "metadata": {},
   "outputs": [],
   "source": [
    "df['ride_id'] = df['ride_id'].astype('category')\n",
    "df['start_station_id'] = df['start_station_id'].astype('category')\n",
    "df['end_station_id'] = df['end_station_id'].astype('category')\n",
    "df['start_station_name'] = df['start_station_name'].astype('category')\n",
    "df['end_station_name'] = df['end_station_name'].astype('category')\n",
    "df['member_casual'] = df['member_casual'].astype('category')\n",
    "df['_merge'] = df['_merge'].astype('category')"
   ]
  },
  {
   "cell_type": "markdown",
   "id": "c34cadd5-a88b-467e-b9a7-3ea9bd262c15",
   "metadata": {},
   "source": [
    "## Data Preprocessing"
   ]
  },
  {
   "cell_type": "code",
   "execution_count": 6,
   "id": "1fbaf3df-53bf-4622-ab17-91be9a41b354",
   "metadata": {},
   "outputs": [
    {
     "name": "stderr",
     "output_type": "stream",
     "text": [
      "C:\\Users\\beaac\\AppData\\Local\\Temp\\ipykernel_30032\\1025877748.py:5: FutureWarning: The default of observed=False is deprecated and will be changed to True in a future version of pandas. Pass observed=False to retain current behavior or observed=True to adopt the future default and silence this warning.\n",
      "  df_group = df.groupby(['start_station_name', 'end_station_name'])['value'].count().reset_index()\n"
     ]
    }
   ],
   "source": [
    "# Create new column with the value 1.\n",
    "# create a new aggregated dataframe that contains 3 coumns: starting station, ending station and count trips\n",
    "\n",
    "df['value'] = 1\n",
    "df_group = df.groupby(['start_station_name', 'end_station_name'])['value'].count().reset_index()\n"
   ]
  },
  {
   "cell_type": "code",
   "execution_count": 7,
   "id": "1e1c0f55-3412-4c08-95f1-c237a2fb3ef4",
   "metadata": {},
   "outputs": [
    {
     "data": {
      "text/html": [
       "<div>\n",
       "<style scoped>\n",
       "    .dataframe tbody tr th:only-of-type {\n",
       "        vertical-align: middle;\n",
       "    }\n",
       "\n",
       "    .dataframe tbody tr th {\n",
       "        vertical-align: top;\n",
       "    }\n",
       "\n",
       "    .dataframe thead th {\n",
       "        text-align: right;\n",
       "    }\n",
       "</style>\n",
       "<table border=\"1\" class=\"dataframe\">\n",
       "  <thead>\n",
       "    <tr style=\"text-align: right;\">\n",
       "      <th></th>\n",
       "      <th>start_station_name</th>\n",
       "      <th>end_station_name</th>\n",
       "      <th>value</th>\n",
       "    </tr>\n",
       "  </thead>\n",
       "  <tbody>\n",
       "    <tr>\n",
       "      <th>0</th>\n",
       "      <td>1 Ave &amp; E 110 St</td>\n",
       "      <td>1 Ave &amp; E 110 St</td>\n",
       "      <td>791</td>\n",
       "    </tr>\n",
       "    <tr>\n",
       "      <th>1</th>\n",
       "      <td>1 Ave &amp; E 110 St</td>\n",
       "      <td>1 Ave &amp; E 16 St</td>\n",
       "      <td>0</td>\n",
       "    </tr>\n",
       "    <tr>\n",
       "      <th>2</th>\n",
       "      <td>1 Ave &amp; E 110 St</td>\n",
       "      <td>1 Ave &amp; E 18 St</td>\n",
       "      <td>2</td>\n",
       "    </tr>\n",
       "    <tr>\n",
       "      <th>3</th>\n",
       "      <td>1 Ave &amp; E 110 St</td>\n",
       "      <td>1 Ave &amp; E 30 St</td>\n",
       "      <td>4</td>\n",
       "    </tr>\n",
       "    <tr>\n",
       "      <th>4</th>\n",
       "      <td>1 Ave &amp; E 110 St</td>\n",
       "      <td>1 Ave &amp; E 39 St</td>\n",
       "      <td>1</td>\n",
       "    </tr>\n",
       "    <tr>\n",
       "      <th>...</th>\n",
       "      <td>...</td>\n",
       "      <td>...</td>\n",
       "      <td>...</td>\n",
       "    </tr>\n",
       "    <tr>\n",
       "      <th>3241996</th>\n",
       "      <td>Yankee Ferry Terminal</td>\n",
       "      <td>Wyckoff St &amp; 3 Ave</td>\n",
       "      <td>0</td>\n",
       "    </tr>\n",
       "    <tr>\n",
       "      <th>3241997</th>\n",
       "      <td>Yankee Ferry Terminal</td>\n",
       "      <td>Wyckoff St &amp; Nevins St</td>\n",
       "      <td>0</td>\n",
       "    </tr>\n",
       "    <tr>\n",
       "      <th>3241998</th>\n",
       "      <td>Yankee Ferry Terminal</td>\n",
       "      <td>Wythe Ave &amp; Metropolitan Ave</td>\n",
       "      <td>0</td>\n",
       "    </tr>\n",
       "    <tr>\n",
       "      <th>3241999</th>\n",
       "      <td>Yankee Ferry Terminal</td>\n",
       "      <td>Yankee Ferry Terminal</td>\n",
       "      <td>5759</td>\n",
       "    </tr>\n",
       "    <tr>\n",
       "      <th>3242000</th>\n",
       "      <td>Yankee Ferry Terminal</td>\n",
       "      <td>York St &amp; Marin Blvd</td>\n",
       "      <td>0</td>\n",
       "    </tr>\n",
       "  </tbody>\n",
       "</table>\n",
       "<p>3242001 rows × 3 columns</p>\n",
       "</div>"
      ],
      "text/plain": [
       "            start_station_name              end_station_name  value\n",
       "0             1 Ave & E 110 St              1 Ave & E 110 St    791\n",
       "1             1 Ave & E 110 St               1 Ave & E 16 St      0\n",
       "2             1 Ave & E 110 St               1 Ave & E 18 St      2\n",
       "3             1 Ave & E 110 St               1 Ave & E 30 St      4\n",
       "4             1 Ave & E 110 St               1 Ave & E 39 St      1\n",
       "...                        ...                           ...    ...\n",
       "3241996  Yankee Ferry Terminal            Wyckoff St & 3 Ave      0\n",
       "3241997  Yankee Ferry Terminal        Wyckoff St & Nevins St      0\n",
       "3241998  Yankee Ferry Terminal  Wythe Ave & Metropolitan Ave      0\n",
       "3241999  Yankee Ferry Terminal         Yankee Ferry Terminal   5759\n",
       "3242000  Yankee Ferry Terminal          York St & Marin Blvd      0\n",
       "\n",
       "[3242001 rows x 3 columns]"
      ]
     },
     "execution_count": 7,
     "metadata": {},
     "output_type": "execute_result"
    }
   ],
   "source": [
    "df_group"
   ]
  },
  {
   "cell_type": "code",
   "execution_count": 8,
   "id": "6d15c17a-b2a2-4a83-9384-9c501b5dd3c8",
   "metadata": {},
   "outputs": [
    {
     "name": "stdout",
     "output_type": "stream",
     "text": [
      "29768282\n",
      "(29768282, 18)\n"
     ]
    }
   ],
   "source": [
    "print(df_group['value'].sum())\n",
    "print(df.shape)"
   ]
  },
  {
   "cell_type": "code",
   "execution_count": 9,
   "id": "43569bdc-5235-478e-b0f4-410b54c5e7b2",
   "metadata": {},
   "outputs": [
    {
     "data": {
      "text/plain": [
       "count    3.242001e+06\n",
       "mean     9.182071e+00\n",
       "std      5.713709e+01\n",
       "min      0.000000e+00\n",
       "25%      0.000000e+00\n",
       "50%      0.000000e+00\n",
       "75%      1.000000e+00\n",
       "max      1.204100e+04\n",
       "Name: value, dtype: float64"
      ]
     },
     "execution_count": 9,
     "metadata": {},
     "output_type": "execute_result"
    }
   ],
   "source": [
    "df_group['value'].describe()"
   ]
  },
  {
   "cell_type": "code",
   "execution_count": 10,
   "id": "8c08b355-1f13-4c46-b23a-a4696f484b6f",
   "metadata": {},
   "outputs": [],
   "source": [
    "#Merge coordinates directly rom original df\n",
    "start_coords = df[['start_station_name', 'start_lat', 'start_lng']].drop_duplicates()\n",
    "end_coords = df[['end_station_name', 'end_lat', 'end_lng']].drop_duplicates()"
   ]
  },
  {
   "cell_type": "code",
   "execution_count": 11,
   "id": "52eeb700-94f6-4ffe-bc05-536b06ac763b",
   "metadata": {},
   "outputs": [
    {
     "name": "stdout",
     "output_type": "stream",
     "text": [
      "start_station_name\n",
      "W 21 St & 6 Ave            128823\n",
      "West St & Chambers St      123045\n",
      "Broadway & W 58 St         114040\n",
      "6 Ave & W 33 St            106236\n",
      "1 Ave & E 68 St            104685\n",
      "Broadway & E 14 St          98656\n",
      "Broadway & W 25 St          98237\n",
      "University Pl & E 14 St     96941\n",
      "Broadway & E 21 St          95533\n",
      "W 31 St & 7 Ave             94035\n",
      "Name: count, dtype: int64\n"
     ]
    }
   ],
   "source": [
    "start_coords_check = df[['start_station_name', 'start_lat', 'start_lng']]\n",
    "print(start_coords_check['start_station_name'].value_counts().head(10))\n"
   ]
  },
  {
   "cell_type": "code",
   "execution_count": 12,
   "id": "b034ad60-e865-43f0-bb85-08dd5328e0cc",
   "metadata": {},
   "outputs": [
    {
     "name": "stderr",
     "output_type": "stream",
     "text": [
      "C:\\Users\\beaac\\AppData\\Local\\Temp\\ipykernel_30032\\2919225807.py:1: FutureWarning: The default of observed=False is deprecated and will be changed to True in a future version of pandas. Pass observed=False to retain current behavior or observed=True to adopt the future default and silence this warning.\n",
      "  start_coords_clean = df.groupby('start_station_name')[['start_lat', 'start_lng']].first().reset_index()\n",
      "C:\\Users\\beaac\\AppData\\Local\\Temp\\ipykernel_30032\\2919225807.py:2: FutureWarning: The default of observed=False is deprecated and will be changed to True in a future version of pandas. Pass observed=False to retain current behavior or observed=True to adopt the future default and silence this warning.\n",
      "  end_coords_clean = df.groupby('end_station_name')[['end_lat', 'end_lng']].first().reset_index()\n"
     ]
    }
   ],
   "source": [
    "start_coords_clean = df.groupby('start_station_name')[['start_lat', 'start_lng']].first().reset_index()\n",
    "end_coords_clean = df.groupby('end_station_name')[['end_lat', 'end_lng']].first().reset_index()\n"
   ]
  },
  {
   "cell_type": "code",
   "execution_count": 13,
   "id": "b424f5ae-afa1-4d91-b3ab-db4c501b2b0b",
   "metadata": {},
   "outputs": [],
   "source": [
    "df_final = df_group.merge(start_coords_clean, on='start_station_name', how='left')\n",
    "df_final = df_final.merge(end_coords_clean, on='end_station_name', how='left')\n"
   ]
  },
  {
   "cell_type": "markdown",
   "id": "6e4fc3b5-d06a-419a-b551-6bffb1cd4627",
   "metadata": {},
   "source": [
    "## Kepler.gl map"
   ]
  },
  {
   "cell_type": "code",
   "execution_count": 19,
   "id": "9bd446ed-c748-4b7c-9d5b-4897ff2bc2e9",
   "metadata": {},
   "outputs": [
    {
     "name": "stderr",
     "output_type": "stream",
     "text": [
      "C:\\Users\\beaac\\AppData\\Local\\Temp\\ipykernel_30032\\3703269001.py:2: FutureWarning: The default of observed=False is deprecated and will be changed to True in a future version of pandas. Pass observed=False to retain current behavior or observed=True to adopt the future default and silence this warning.\n",
      "  df_final.groupby('start_station_name')['value']\n"
     ]
    }
   ],
   "source": [
    "top_starts = (\n",
    "    df_final.groupby('start_station_name')['value']\n",
    "    .sum()\n",
    "    .sort_values(ascending=False)\n",
    "    .head(100)\n",
    "    .reset_index()\n",
    ")\n"
   ]
  },
  {
   "cell_type": "code",
   "execution_count": 20,
   "id": "18c2eae1-5384-45ba-a0d3-87d4170a9d41",
   "metadata": {},
   "outputs": [],
   "source": [
    "df_top100 = df_final[df_final['start_station_name'].isin(top_starts['start_station_name'])]\n"
   ]
  },
  {
   "cell_type": "code",
   "execution_count": 21,
   "id": "238883f0-38bc-40a3-bbad-3d8308b05ef5",
   "metadata": {},
   "outputs": [],
   "source": [
    "# clean column names\n",
    "df_top100.columns = df_top100.columns.str.lower().str.replace(\" \", \"_\")\n"
   ]
  },
  {
   "cell_type": "code",
   "execution_count": 22,
   "id": "86a0b542-01c9-4788-9baa-be253c32f50e",
   "metadata": {},
   "outputs": [],
   "source": [
    "df_top100.to_csv(\"top_100_routes.csv\", index=False)\n"
   ]
  },
  {
   "cell_type": "code",
   "execution_count": 23,
   "id": "9937a3d0-a5c6-40e6-8268-cd5d10583832",
   "metadata": {},
   "outputs": [],
   "source": [
    "df_final.to_csv('df_final_location_for_map.csv')"
   ]
  },
  {
   "cell_type": "code",
   "execution_count": 24,
   "id": "17893163-358e-42c7-9148-644edcee1d3e",
   "metadata": {},
   "outputs": [
    {
     "name": "stdout",
     "output_type": "stream",
     "text": [
      "User Guide: https://docs.kepler.gl/docs/keplergl-jupyter\n"
     ]
    },
    {
     "data": {
      "application/vnd.jupyter.widget-view+json": {
       "model_id": "37522e52de5b497981a6d791885a8e15",
       "version_major": 2,
       "version_minor": 0
      },
      "text/plain": [
       "KeplerGl(data={'data_1':                    start_station_name              end_station_name  value  \\\n",
       "1841   …"
      ]
     },
     "metadata": {},
     "output_type": "display_data"
    }
   ],
   "source": [
    "# Create KeplerGl instance\n",
    "\n",
    "m = KeplerGl(height = 700, data={\"data_1\": df_top100})\n",
    "m"
   ]
  },
  {
   "cell_type": "markdown",
   "id": "34d199b4-8295-4366-84e2-524d1814c37b",
   "metadata": {},
   "source": [
    "## Map Customization Summary \n",
    " to visualize the most popular bike routes in NYC i did new df with the top 100 routes\n",
    "\n",
    "I choose for the first layer \n",
    "start:  fill color Fuchsia\n",
    "End: fill color Orange\n",
    "start and end arc: The same color of the start and end, for the soure: Fuchsia and for the Target: Orange.\n",
    "\n",
    "to finalized i applied a filter\n",
    "Column: Value\n",
    "Threshold : Top 100 stations by trip volume\n",
    "\n",
    "Filtering reduced clutter and emphasized meaningful patterns, especially around Midtown, Brooklyn Bridge Park and Central Park\n",
    "\n"
   ]
  },
  {
   "cell_type": "code",
   "execution_count": null,
   "id": "4a9cd43c-be30-4857-9b4b-3950d27882d0",
   "metadata": {},
   "outputs": [],
   "source": []
  }
 ],
 "metadata": {
  "kernelspec": {
   "display_name": "Python (bike)",
   "language": "python",
   "name": "bike"
  },
  "language_info": {
   "codemirror_mode": {
    "name": "ipython",
    "version": 3
   },
   "file_extension": ".py",
   "mimetype": "text/x-python",
   "name": "python",
   "nbconvert_exporter": "python",
   "pygments_lexer": "ipython3",
   "version": "3.10.18"
  }
 },
 "nbformat": 4,
 "nbformat_minor": 5
}
